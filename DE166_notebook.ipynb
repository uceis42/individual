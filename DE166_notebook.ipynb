{
 "cells": [
  {
   "cell_type": "code",
   "execution_count": 57,
   "id": "66d1b763",
   "metadata": {},
   "outputs": [
    {
     "name": "stdout",
     "output_type": "stream",
     "text": [
      "Success - the MySageMakerInstance is in the us-west-2 region. You will use the 433757028032.dkr.ecr.us-west-2.amazonaws.com/xgboost:latest container for your SageMaker endpoint.\n"
     ]
    }
   ],
   "source": [
    "import boto3, re, sys, math, json, os, sagemaker, urllib.request\n",
    "from sagemaker import get_execution_role\n",
    "import numpy as np                                \n",
    "import pandas as pd                               \n",
    "import matplotlib.pyplot as plt                   \n",
    "from IPython.display import Image                 \n",
    "from IPython.display import display               \n",
    "from time import gmtime, strftime                 \n",
    "from sagemaker.predictor import csv_serializer   \n",
    "\n",
    "# Define IAM role\n",
    "role = get_execution_role()\n",
    "prefix = 'sagemaker/DEMO-xgboost-dm'\n",
    "containers = {'us-west-2': '433757028032.dkr.ecr.us-west-2.amazonaws.com/xgboost:latest',\n",
    "              'us-east-1': '811284229777.dkr.ecr.us-east-1.amazonaws.com/xgboost:latest',\n",
    "              'us-east-2': '825641698319.dkr.ecr.us-east-2.amazonaws.com/xgboost:latest',\n",
    "              'eu-west-1': '685385470294.dkr.ecr.eu-west-1.amazonaws.com/xgboost:latest'} # each region has its XGBoost container\n",
    "my_region = boto3.session.Session().region_name # set the region of the instance\n",
    "print(\"Success - the MySageMakerInstance is in the \" + my_region + \" region. You will use the \" + containers[my_region] + \" container for your SageMaker endpoint.\")"
   ]
  },
  {
   "cell_type": "code",
   "execution_count": 58,
   "id": "f9c78948",
   "metadata": {},
   "outputs": [
    {
     "name": "stderr",
     "output_type": "stream",
     "text": [
      "/home/ec2-user/anaconda3/envs/python3/lib/python3.6/site-packages/boto3/compat.py:88: PythonDeprecationWarning: Boto3 will no longer support Python 3.6 starting May 30, 2022. To continue receiving service updates, bug fixes, and security updates please upgrade to Python 3.7 or later. More information can be found here: https://aws.amazon.com/blogs/developer/python-support-policy-updates-for-aws-sdks-and-tools/\n",
      "  warnings.warn(warning, PythonDeprecationWarning)\n"
     ]
    },
    {
     "name": "stdout",
     "output_type": "stream",
     "text": [
      "S3 error:  An error occurred (BucketAlreadyOwnedByYou) when calling the CreateBucket operation: Your previous request to create the named bucket succeeded and you already own it.\n"
     ]
    }
   ],
   "source": [
    "bucket_name = 'de166-sagemaker-shihao' # <--- CHANGE THIS VARIABLE TO A UNIQUE NAME FOR YOUR BUCKET\n",
    "s3 = boto3.resource('s3')\n",
    "try:\n",
    "    if  my_region == 'us-east-1': \n",
    "        s3.create_bucket(Bucket=bucket_name)\n",
    "    else: \n",
    "        s3.create_bucket(Bucket=bucket_name, CreateBucketConfiguration={ 'LocationConstraint': my_region })\n",
    "    print('S3 bucket created successfully')\n",
    "except Exception as e:\n",
    "    print('S3 error: ',e)\n",
    "    "
   ]
  },
  {
   "cell_type": "code",
   "execution_count": 82,
   "id": "26bb71b4",
   "metadata": {},
   "outputs": [],
   "source": [
    "import pyarrow.parquet as pq\n",
    "import s3fs\n",
    "\n",
    "s3 = s3fs.S3FileSystem()\n",
    "model_data = pq.read_table('s3://de166-sagemaker-shihao/merged.parquet', filesystem=s3).to_pandas()"
   ]
  },
  {
   "cell_type": "code",
   "execution_count": 83,
   "id": "93cd5d9f",
   "metadata": {},
   "outputs": [],
   "source": [
    "model_data= model_data.drop(columns = ['Local Authority Distract Name','Region/Country','Second Tier Authority','Code','Year','Operator','Site','Postcode','Reference','Substance Name','Local Authority'])\n"
   ]
  },
  {
   "cell_type": "code",
   "execution_count": 87,
   "id": "3e44e07f",
   "metadata": {},
   "outputs": [
    {
     "data": {
      "text/html": [
       "<div>\n",
       "<style scoped>\n",
       "    .dataframe tbody tr th:only-of-type {\n",
       "        vertical-align: middle;\n",
       "    }\n",
       "\n",
       "    .dataframe tbody tr th {\n",
       "        vertical-align: top;\n",
       "    }\n",
       "\n",
       "    .dataframe thead th {\n",
       "        text-align: right;\n",
       "    }\n",
       "</style>\n",
       "<table border=\"1\" class=\"dataframe\">\n",
       "  <thead>\n",
       "    <tr style=\"text-align: right;\">\n",
       "      <th></th>\n",
       "      <th>Industry Electricity</th>\n",
       "      <th>Industry Gas</th>\n",
       "      <th>Industry 'Other Fuels'</th>\n",
       "      <th>Large Industrial Installations</th>\n",
       "      <th>Agriculture</th>\n",
       "      <th>Industry Total</th>\n",
       "      <th>2019 year</th>\n",
       "      <th>label</th>\n",
       "    </tr>\n",
       "  </thead>\n",
       "  <tbody>\n",
       "    <tr>\n",
       "      <th>0</th>\n",
       "      <td>17.786253</td>\n",
       "      <td>64.760412</td>\n",
       "      <td>23.930058</td>\n",
       "      <td>0.050426</td>\n",
       "      <td>5.952103</td>\n",
       "      <td>112.479252</td>\n",
       "      <td>49.343000</td>\n",
       "      <td>1</td>\n",
       "    </tr>\n",
       "    <tr>\n",
       "      <th>1</th>\n",
       "      <td>110.906985</td>\n",
       "      <td>86.680235</td>\n",
       "      <td>130.746196</td>\n",
       "      <td>10.899522</td>\n",
       "      <td>45.994055</td>\n",
       "      <td>385.226992</td>\n",
       "      <td>0.043075</td>\n",
       "      <td>1</td>\n",
       "    </tr>\n",
       "    <tr>\n",
       "      <th>2</th>\n",
       "      <td>110.906985</td>\n",
       "      <td>86.680235</td>\n",
       "      <td>130.746196</td>\n",
       "      <td>10.899522</td>\n",
       "      <td>45.994055</td>\n",
       "      <td>385.226992</td>\n",
       "      <td>4.700560</td>\n",
       "      <td>1</td>\n",
       "    </tr>\n",
       "    <tr>\n",
       "      <th>3</th>\n",
       "      <td>45.752494</td>\n",
       "      <td>76.066494</td>\n",
       "      <td>35.248639</td>\n",
       "      <td>4.795098</td>\n",
       "      <td>1.542726</td>\n",
       "      <td>163.405451</td>\n",
       "      <td>22.400000</td>\n",
       "      <td>1</td>\n",
       "    </tr>\n",
       "    <tr>\n",
       "      <th>4</th>\n",
       "      <td>45.752494</td>\n",
       "      <td>76.066494</td>\n",
       "      <td>35.248639</td>\n",
       "      <td>4.795098</td>\n",
       "      <td>1.542726</td>\n",
       "      <td>163.405451</td>\n",
       "      <td>22.200000</td>\n",
       "      <td>1</td>\n",
       "    </tr>\n",
       "    <tr>\n",
       "      <th>...</th>\n",
       "      <td>...</td>\n",
       "      <td>...</td>\n",
       "      <td>...</td>\n",
       "      <td>...</td>\n",
       "      <td>...</td>\n",
       "      <td>...</td>\n",
       "      <td>...</td>\n",
       "      <td>...</td>\n",
       "    </tr>\n",
       "    <tr>\n",
       "      <th>619</th>\n",
       "      <td>38.559634</td>\n",
       "      <td>56.107100</td>\n",
       "      <td>217.406073</td>\n",
       "      <td>11.847051</td>\n",
       "      <td>45.652023</td>\n",
       "      <td>369.571881</td>\n",
       "      <td>1010.033350</td>\n",
       "      <td>-1</td>\n",
       "    </tr>\n",
       "    <tr>\n",
       "      <th>620</th>\n",
       "      <td>38.559634</td>\n",
       "      <td>56.107100</td>\n",
       "      <td>217.406073</td>\n",
       "      <td>11.847051</td>\n",
       "      <td>45.652023</td>\n",
       "      <td>369.571881</td>\n",
       "      <td>1141.294000</td>\n",
       "      <td>-1</td>\n",
       "    </tr>\n",
       "    <tr>\n",
       "      <th>621</th>\n",
       "      <td>75.808282</td>\n",
       "      <td>24.178805</td>\n",
       "      <td>349.697965</td>\n",
       "      <td>357.242559</td>\n",
       "      <td>92.253520</td>\n",
       "      <td>899.181131</td>\n",
       "      <td>18.977000</td>\n",
       "      <td>1</td>\n",
       "    </tr>\n",
       "    <tr>\n",
       "      <th>622</th>\n",
       "      <td>75.808282</td>\n",
       "      <td>24.178805</td>\n",
       "      <td>349.697965</td>\n",
       "      <td>357.242559</td>\n",
       "      <td>92.253520</td>\n",
       "      <td>899.181131</td>\n",
       "      <td>313.326000</td>\n",
       "      <td>-1</td>\n",
       "    </tr>\n",
       "    <tr>\n",
       "      <th>623</th>\n",
       "      <td>75.808282</td>\n",
       "      <td>24.178805</td>\n",
       "      <td>349.697965</td>\n",
       "      <td>357.242559</td>\n",
       "      <td>92.253520</td>\n",
       "      <td>899.181131</td>\n",
       "      <td>25.460000</td>\n",
       "      <td>1</td>\n",
       "    </tr>\n",
       "  </tbody>\n",
       "</table>\n",
       "<p>624 rows × 8 columns</p>\n",
       "</div>"
      ],
      "text/plain": [
       "     Industry Electricity  Industry Gas   Industry 'Other Fuels'  \\\n",
       "0               17.786253      64.760412               23.930058   \n",
       "1              110.906985      86.680235              130.746196   \n",
       "2              110.906985      86.680235              130.746196   \n",
       "3               45.752494      76.066494               35.248639   \n",
       "4               45.752494      76.066494               35.248639   \n",
       "..                    ...            ...                     ...   \n",
       "619             38.559634      56.107100              217.406073   \n",
       "620             38.559634      56.107100              217.406073   \n",
       "621             75.808282      24.178805              349.697965   \n",
       "622             75.808282      24.178805              349.697965   \n",
       "623             75.808282      24.178805              349.697965   \n",
       "\n",
       "     Large Industrial Installations  Agriculture  Industry Total    2019 year  \\\n",
       "0                          0.050426     5.952103      112.479252    49.343000   \n",
       "1                         10.899522    45.994055      385.226992     0.043075   \n",
       "2                         10.899522    45.994055      385.226992     4.700560   \n",
       "3                          4.795098     1.542726      163.405451    22.400000   \n",
       "4                          4.795098     1.542726      163.405451    22.200000   \n",
       "..                              ...          ...             ...          ...   \n",
       "619                       11.847051    45.652023      369.571881  1010.033350   \n",
       "620                       11.847051    45.652023      369.571881  1141.294000   \n",
       "621                      357.242559    92.253520      899.181131    18.977000   \n",
       "622                      357.242559    92.253520      899.181131   313.326000   \n",
       "623                      357.242559    92.253520      899.181131    25.460000   \n",
       "\n",
       "     label  \n",
       "0        1  \n",
       "1        1  \n",
       "2        1  \n",
       "3        1  \n",
       "4        1  \n",
       "..     ...  \n",
       "619     -1  \n",
       "620     -1  \n",
       "621      1  \n",
       "622     -1  \n",
       "623      1  \n",
       "\n",
       "[624 rows x 8 columns]"
      ]
     },
     "execution_count": 87,
     "metadata": {},
     "output_type": "execute_result"
    }
   ],
   "source": [
    "model_data"
   ]
  },
  {
   "cell_type": "code",
   "execution_count": 66,
   "id": "77e327a7",
   "metadata": {},
   "outputs": [],
   "source": [
    "model_data['label'] = model_data['label'].replace(-1,0)"
   ]
  },
  {
   "cell_type": "code",
   "execution_count": 81,
   "id": "cdfcea63",
   "metadata": {},
   "outputs": [],
   "source": [
    "model_data=model_data.astype('float')"
   ]
  },
  {
   "cell_type": "code",
   "execution_count": 68,
   "id": "f90f757d",
   "metadata": {},
   "outputs": [
    {
     "name": "stdout",
     "output_type": "stream",
     "text": [
      "(436, 8) (188, 8)\n"
     ]
    }
   ],
   "source": [
    "train_data, test_data = np.split(model_data.sample(frac=1, random_state=50), [int(0.7 * len(model_data))])\n",
    "print(train_data.shape, test_data.shape)"
   ]
  },
  {
   "cell_type": "code",
   "execution_count": null,
   "id": "503b1955",
   "metadata": {},
   "outputs": [],
   "source": []
  },
  {
   "cell_type": "code",
   "execution_count": 69,
   "id": "f0e21fa6",
   "metadata": {},
   "outputs": [],
   "source": [
    "#step 5 \n",
    "pd.concat([train_data['label'], train_data.drop(['label'], axis=1)], axis=1).to_csv('train.csv', index=False, header=False)\n",
    "boto3.Session().resource('s3').Bucket(bucket_name).Object(os.path.join(prefix, 'train/train.csv')).upload_file('train.csv')\n",
    "s3_input_train = sagemaker.inputs.TrainingInput(s3_data='s3://{}/{}/train'.format(bucket_name, prefix), content_type='csv')"
   ]
  },
  {
   "cell_type": "code",
   "execution_count": 70,
   "id": "048d7454",
   "metadata": {},
   "outputs": [],
   "source": [
    "#step 6 \n",
    "sess = sagemaker.Session()\n",
    "xgb = sagemaker.estimator.Estimator(containers[my_region],role, instance_count=1, instance_type='ml.m4.xlarge',output_path='s3://{}/{}/output'.format(bucket_name, prefix),sagemaker_session=sess)\n",
    "xgb.set_hyperparameters(max_depth=5,eta=0.2,gamma=4,min_child_weight=6,subsample=0.8,silent=0,objective='binary:logistic',num_round=100)\n"
   ]
  },
  {
   "cell_type": "code",
   "execution_count": 71,
   "id": "cc264d11",
   "metadata": {},
   "outputs": [
    {
     "name": "stdout",
     "output_type": "stream",
     "text": [
      "2022-04-23 14:05:14 Starting - Starting the training job...\n",
      "2022-04-23 14:05:41 Starting - Preparing the instances for trainingProfilerReport-1650722714: InProgress\n",
      ".........\n",
      "2022-04-23 14:07:04 Downloading - Downloading input data......\n",
      "2022-04-23 14:07:59 Training - Downloading the training image...\n",
      "2022-04-23 14:08:45 Training - Training image download completed. Training in progress..\u001b[34mArguments: train\u001b[0m\n",
      "\u001b[34m[2022-04-23:14:08:49:INFO] Running standalone xgboost training.\u001b[0m\n",
      "\u001b[34m[2022-04-23:14:08:49:INFO] Path /opt/ml/input/data/validation does not exist!\u001b[0m\n",
      "\u001b[34m[2022-04-23:14:08:49:INFO] File size need to be processed in the node: 0.05mb. Available memory size in the node: 8492.56mb\u001b[0m\n",
      "\u001b[34m[2022-04-23:14:08:49:INFO] Determined delimiter of CSV input is ','\u001b[0m\n",
      "\u001b[34m[14:08:49] S3DistributionType set as FullyReplicated\u001b[0m\n",
      "\u001b[34m[14:08:49] 436x7 matrix with 3052 entries loaded from /opt/ml/input/data/train?format=csv&label_column=0&delimiter=,\u001b[0m\n",
      "\u001b[34m[14:08:49] src/tree/updater_prune.cc:74: tree pruning end, 1 roots, 8 extra nodes, 0 pruned nodes, max_depth=3\u001b[0m\n",
      "\u001b[34m[14:08:49] src/tree/updater_prune.cc:74: tree pruning end, 1 roots, 6 extra nodes, 2 pruned nodes, max_depth=2\u001b[0m\n",
      "\u001b[34m[14:08:49] src/tree/updater_prune.cc:74: tree pruning end, 1 roots, 6 extra nodes, 4 pruned nodes, max_depth=3\u001b[0m\n",
      "\u001b[34m[14:08:49] src/tree/updater_prune.cc:74: tree pruning end, 1 roots, 6 extra nodes, 4 pruned nodes, max_depth=2\u001b[0m\n",
      "\u001b[34m[14:08:49] src/tree/updater_prune.cc:74: tree pruning end, 1 roots, 4 extra nodes, 4 pruned nodes, max_depth=2\u001b[0m\n",
      "\u001b[34m[14:08:49] src/tree/updater_prune.cc:74: tree pruning end, 1 roots, 6 extra nodes, 0 pruned nodes, max_depth=3\u001b[0m\n",
      "\u001b[34m[14:08:49] src/tree/updater_prune.cc:74: tree pruning end, 1 roots, 6 extra nodes, 0 pruned nodes, max_depth=2\u001b[0m\n",
      "\u001b[34m[14:08:49] src/tree/updater_prune.cc:74: tree pruning end, 1 roots, 8 extra nodes, 0 pruned nodes, max_depth=3\u001b[0m\n",
      "\u001b[34m[14:08:49] src/tree/updater_prune.cc:74: tree pruning end, 1 roots, 4 extra nodes, 2 pruned nodes, max_depth=2\u001b[0m\n",
      "\u001b[34m[0]#011train-error:0.087156\u001b[0m\n",
      "\u001b[34m[1]#011train-error:0.084862\u001b[0m\n",
      "\u001b[34m[2]#011train-error:0.057339\u001b[0m\n",
      "\u001b[34m[3]#011train-error:0.045872\u001b[0m\n",
      "\u001b[34m[4]#011train-error:0.066514\u001b[0m\n",
      "\u001b[34m[5]#011train-error:0.052752\u001b[0m\n",
      "\u001b[34m[6]#011train-error:0.041284\u001b[0m\n",
      "\u001b[34m[7]#011train-error:0.038991\u001b[0m\n",
      "\u001b[34m[8]#011train-error:0.036697\u001b[0m\n",
      "\u001b[34m[14:08:49] src/tree/updater_prune.cc:74: tree pruning end, 1 roots, 6 extra nodes, 2 pruned nodes, max_depth=3\u001b[0m\n",
      "\u001b[34m[9]#011train-error:0.03211\u001b[0m\n",
      "\u001b[34m[14:08:49] src/tree/updater_prune.cc:74: tree pruning end, 1 roots, 6 extra nodes, 0 pruned nodes, max_depth=2\u001b[0m\n",
      "\u001b[34m[10]#011train-error:0.03211\u001b[0m\n",
      "\u001b[34m[14:08:49] src/tree/updater_prune.cc:74: tree pruning end, 1 roots, 6 extra nodes, 0 pruned nodes, max_depth=2\u001b[0m\n",
      "\u001b[34m[11]#011train-error:0.03211\u001b[0m\n",
      "\u001b[34m[14:08:49] src/tree/updater_prune.cc:74: tree pruning end, 1 roots, 4 extra nodes, 0 pruned nodes, max_depth=2\u001b[0m\n",
      "\u001b[34m[12]#011train-error:0.029817\u001b[0m\n",
      "\u001b[34m[14:08:49] src/tree/updater_prune.cc:74: tree pruning end, 1 roots, 4 extra nodes, 0 pruned nodes, max_depth=2\u001b[0m\n",
      "\u001b[34m[13]#011train-error:0.03211\u001b[0m\n",
      "\u001b[34m[14:08:49] src/tree/updater_prune.cc:74: tree pruning end, 1 roots, 6 extra nodes, 0 pruned nodes, max_depth=2\u001b[0m\n",
      "\u001b[34m[14]#011train-error:0.029817\u001b[0m\n",
      "\u001b[34m[14:08:49] src/tree/updater_prune.cc:74: tree pruning end, 1 roots, 4 extra nodes, 2 pruned nodes, max_depth=2\u001b[0m\n",
      "\u001b[34m[15]#011train-error:0.027523\u001b[0m\n",
      "\u001b[34m[14:08:49] src/tree/updater_prune.cc:74: tree pruning end, 1 roots, 4 extra nodes, 0 pruned nodes, max_depth=2\u001b[0m\n",
      "\u001b[34m[16]#011train-error:0.029817\u001b[0m\n",
      "\u001b[34m[14:08:49] src/tree/updater_prune.cc:74: tree pruning end, 1 roots, 4 extra nodes, 0 pruned nodes, max_depth=2\u001b[0m\n",
      "\u001b[34m[17]#011train-error:0.029817\u001b[0m\n",
      "\u001b[34m[14:08:49] src/tree/updater_prune.cc:74: tree pruning end, 1 roots, 4 extra nodes, 0 pruned nodes, max_depth=2\u001b[0m\n",
      "\u001b[34m[18]#011train-error:0.029817\u001b[0m\n",
      "\u001b[34m[14:08:49] src/tree/updater_prune.cc:74: tree pruning end, 1 roots, 4 extra nodes, 0 pruned nodes, max_depth=2\u001b[0m\n",
      "\u001b[34m[19]#011train-error:0.029817\u001b[0m\n",
      "\u001b[34m[14:08:49] src/tree/updater_prune.cc:74: tree pruning end, 1 roots, 4 extra nodes, 0 pruned nodes, max_depth=2\u001b[0m\n",
      "\u001b[34m[20]#011train-error:0.029817\u001b[0m\n",
      "\u001b[34m[14:08:49] src/tree/updater_prune.cc:74: tree pruning end, 1 roots, 0 extra nodes, 4 pruned nodes, max_depth=0\u001b[0m\n",
      "\u001b[34m[21]#011train-error:0.029817\u001b[0m\n",
      "\u001b[34m[14:08:49] src/tree/updater_prune.cc:74: tree pruning end, 1 roots, 4 extra nodes, 0 pruned nodes, max_depth=2\u001b[0m\n",
      "\u001b[34m[22]#011train-error:0.025229\u001b[0m\n",
      "\u001b[34m[14:08:49] src/tree/updater_prune.cc:74: tree pruning end, 1 roots, 0 extra nodes, 4 pruned nodes, max_depth=0\u001b[0m\n",
      "\u001b[34m[23]#011train-error:0.025229\u001b[0m\n",
      "\u001b[34m[14:08:49] src/tree/updater_prune.cc:74: tree pruning end, 1 roots, 2 extra nodes, 2 pruned nodes, max_depth=1\u001b[0m\n",
      "\u001b[34m[24]#011train-error:0.027523\u001b[0m\n",
      "\u001b[34m[14:08:49] src/tree/updater_prune.cc:74: tree pruning end, 1 roots, 0 extra nodes, 4 pruned nodes, max_depth=0\u001b[0m\n",
      "\u001b[34m[25]#011train-error:0.027523\u001b[0m\n",
      "\u001b[34m[14:08:49] src/tree/updater_prune.cc:74: tree pruning end, 1 roots, 0 extra nodes, 4 pruned nodes, max_depth=0\u001b[0m\n",
      "\u001b[34m[26]#011train-error:0.027523\u001b[0m\n",
      "\u001b[34m[14:08:49] src/tree/updater_prune.cc:74: tree pruning end, 1 roots, 0 extra nodes, 4 pruned nodes, max_depth=0\u001b[0m\n",
      "\u001b[34m[27]#011train-error:0.027523\u001b[0m\n",
      "\u001b[34m[14:08:49] src/tree/updater_prune.cc:74: tree pruning end, 1 roots, 0 extra nodes, 4 pruned nodes, max_depth=0\u001b[0m\n",
      "\u001b[34m[28]#011train-error:0.027523\u001b[0m\n",
      "\u001b[34m[14:08:49] src/tree/updater_prune.cc:74: tree pruning end, 1 roots, 0 extra nodes, 2 pruned nodes, max_depth=0\u001b[0m\n",
      "\u001b[34m[29]#011train-error:0.027523\u001b[0m\n",
      "\u001b[34m[14:08:49] src/tree/updater_prune.cc:74: tree pruning end, 1 roots, 0 extra nodes, 4 pruned nodes, max_depth=0\u001b[0m\n",
      "\u001b[34m[30]#011train-error:0.027523\u001b[0m\n",
      "\u001b[34m[31]#011train-error:0.027523\u001b[0m\n",
      "\u001b[34m[14:08:49] src/tree/updater_prune.cc:74: tree pruning end, 1 roots, 0 extra nodes, 4 pruned nodes, max_depth=0\u001b[0m\n",
      "\u001b[34m[14:08:49] src/tree/updater_prune.cc:74: tree pruning end, 1 roots, 0 extra nodes, 4 pruned nodes, max_depth=0\u001b[0m\n",
      "\u001b[34m[32]#011train-error:0.027523\u001b[0m\n",
      "\u001b[34m[14:08:49] src/tree/updater_prune.cc:74: tree pruning end, 1 roots, 0 extra nodes, 4 pruned nodes, max_depth=0\u001b[0m\n",
      "\u001b[34m[33]#011train-error:0.027523\u001b[0m\n",
      "\u001b[34m[14:08:49] src/tree/updater_prune.cc:74: tree pruning end, 1 roots, 0 extra nodes, 4 pruned nodes, max_depth=0\u001b[0m\n",
      "\u001b[34m[34]#011train-error:0.027523\u001b[0m\n",
      "\u001b[34m[14:08:49] src/tree/updater_prune.cc:74: tree pruning end, 1 roots, 0 extra nodes, 4 pruned nodes, max_depth=0\u001b[0m\n",
      "\u001b[34m[35]#011train-error:0.027523\u001b[0m\n",
      "\u001b[34m[14:08:49] src/tree/updater_prune.cc:74: tree pruning end, 1 roots, 0 extra nodes, 4 pruned nodes, max_depth=0\u001b[0m\n",
      "\u001b[34m[36]#011train-error:0.027523\u001b[0m\n",
      "\u001b[34m[14:08:49] src/tree/updater_prune.cc:74: tree pruning end, 1 roots, 0 extra nodes, 2 pruned nodes, max_depth=0\u001b[0m\n",
      "\u001b[34m[37]#011train-error:0.027523\u001b[0m\n",
      "\u001b[34m[14:08:49] src/tree/updater_prune.cc:74: tree pruning end, 1 roots, 0 extra nodes, 4 pruned nodes, max_depth=0\u001b[0m\n",
      "\u001b[34m[38]#011train-error:0.027523\u001b[0m\n",
      "\u001b[34m[14:08:49] src/tree/updater_prune.cc:74: tree pruning end, 1 roots, 0 extra nodes, 4 pruned nodes, max_depth=0\u001b[0m\n",
      "\u001b[34m[39]#011train-error:0.027523\u001b[0m\n",
      "\u001b[34m[14:08:49] src/tree/updater_prune.cc:74: tree pruning end, 1 roots, 0 extra nodes, 4 pruned nodes, max_depth=0\u001b[0m\n",
      "\u001b[34m[40]#011train-error:0.027523\u001b[0m\n",
      "\u001b[34m[14:08:49] src/tree/updater_prune.cc:74: tree pruning end, 1 roots, 0 extra nodes, 4 pruned nodes, max_depth=0\u001b[0m\n",
      "\u001b[34m[41]#011train-error:0.027523\u001b[0m\n",
      "\u001b[34m[14:08:49] src/tree/updater_prune.cc:74: tree pruning end, 1 roots, 0 extra nodes, 4 pruned nodes, max_depth=0\u001b[0m\n",
      "\u001b[34m[42]#011train-error:0.027523\u001b[0m\n",
      "\u001b[34m[14:08:49] src/tree/updater_prune.cc:74: tree pruning end, 1 roots, 0 extra nodes, 4 pruned nodes, max_depth=0\u001b[0m\n",
      "\u001b[34m[43]#011train-error:0.027523\u001b[0m\n",
      "\u001b[34m[14:08:49] src/tree/updater_prune.cc:74: tree pruning end, 1 roots, 0 extra nodes, 4 pruned nodes, max_depth=0\u001b[0m\n",
      "\u001b[34m[44]#011train-error:0.027523\u001b[0m\n",
      "\u001b[34m[14:08:49] src/tree/updater_prune.cc:74: tree pruning end, 1 roots, 0 extra nodes, 2 pruned nodes, max_depth=0\u001b[0m\n",
      "\u001b[34m[45]#011train-error:0.027523\u001b[0m\n",
      "\u001b[34m[14:08:49] src/tree/updater_prune.cc:74: tree pruning end, 1 roots, 0 extra nodes, 4 pruned nodes, max_depth=0\u001b[0m\n",
      "\u001b[34m[46]#011train-error:0.027523\u001b[0m\n",
      "\u001b[34m[14:08:49] src/tree/updater_prune.cc:74: tree pruning end, 1 roots, 0 extra nodes, 2 pruned nodes, max_depth=0\u001b[0m\n",
      "\u001b[34m[47]#011train-error:0.027523\u001b[0m\n",
      "\u001b[34m[14:08:49] src/tree/updater_prune.cc:74: tree pruning end, 1 roots, 0 extra nodes, 2 pruned nodes, max_depth=0\u001b[0m\n",
      "\u001b[34m[48]#011train-error:0.027523\u001b[0m\n",
      "\u001b[34m[14:08:49] src/tree/updater_prune.cc:74: tree pruning end, 1 roots, 0 extra nodes, 4 pruned nodes, max_depth=0\u001b[0m\n",
      "\u001b[34m[49]#011train-error:0.027523\u001b[0m\n",
      "\u001b[34m[14:08:49] src/tree/updater_prune.cc:74: tree pruning end, 1 roots, 0 extra nodes, 2 pruned nodes, max_depth=0\u001b[0m\n",
      "\u001b[34m[50]#011train-error:0.027523\u001b[0m\n",
      "\u001b[34m[14:08:49] src/tree/updater_prune.cc:74: tree pruning end, 1 roots, 0 extra nodes, 4 pruned nodes, max_depth=0\u001b[0m\n",
      "\u001b[34m[51]#011train-error:0.027523\u001b[0m\n",
      "\u001b[34m[14:08:49] src/tree/updater_prune.cc:74: tree pruning end, 1 roots, 0 extra nodes, 2 pruned nodes, max_depth=0\u001b[0m\n",
      "\u001b[34m[52]#011train-error:0.027523\u001b[0m\n",
      "\u001b[34m[14:08:49] src/tree/updater_prune.cc:74: tree pruning end, 1 roots, 0 extra nodes, 4 pruned nodes, max_depth=0\u001b[0m\n",
      "\u001b[34m[53]#011train-error:0.027523\u001b[0m\n",
      "\u001b[34m[14:08:49] src/tree/updater_prune.cc:74: tree pruning end, 1 roots, 0 extra nodes, 4 pruned nodes, max_depth=0\u001b[0m\n",
      "\u001b[34m[54]#011train-error:0.027523\u001b[0m\n",
      "\u001b[34m[14:08:49] src/tree/updater_prune.cc:74: tree pruning end, 1 roots, 0 extra nodes, 4 pruned nodes, max_depth=0\u001b[0m\n",
      "\u001b[34m[55]#011train-error:0.027523\u001b[0m\n",
      "\u001b[34m[14:08:49] src/tree/updater_prune.cc:74: tree pruning end, 1 roots, 0 extra nodes, 4 pruned nodes, max_depth=0\u001b[0m\n",
      "\u001b[34m[56]#011train-error:0.027523\u001b[0m\n",
      "\u001b[34m[14:08:49] src/tree/updater_prune.cc:74: tree pruning end, 1 roots, 0 extra nodes, 4 pruned nodes, max_depth=0\u001b[0m\n",
      "\u001b[34m[57]#011train-error:0.027523\u001b[0m\n",
      "\u001b[34m[14:08:49] src/tree/updater_prune.cc:74: tree pruning end, 1 roots, 0 extra nodes, 2 pruned nodes, max_depth=0\u001b[0m\n",
      "\u001b[34m[58]#011train-error:0.027523\u001b[0m\n",
      "\u001b[34m[14:08:49] src/tree/updater_prune.cc:74: tree pruning end, 1 roots, 0 extra nodes, 4 pruned nodes, max_depth=0\u001b[0m\n",
      "\u001b[34m[59]#011train-error:0.029817\u001b[0m\n",
      "\u001b[34m[14:08:49] src/tree/updater_prune.cc:74: tree pruning end, 1 roots, 0 extra nodes, 4 pruned nodes, max_depth=0\u001b[0m\n",
      "\u001b[34m[60]#011train-error:0.027523\u001b[0m\n",
      "\u001b[34m[14:08:49] src/tree/updater_prune.cc:74: tree pruning end, 1 roots, 0 extra nodes, 2 pruned nodes, max_depth=0\u001b[0m\n",
      "\u001b[34m[61]#011train-error:0.029817\u001b[0m\n",
      "\u001b[34m[14:08:49] src/tree/updater_prune.cc:74: tree pruning end, 1 roots, 0 extra nodes, 4 pruned nodes, max_depth=0\u001b[0m\n",
      "\u001b[34m[62]#011train-error:0.029817\u001b[0m\n",
      "\u001b[34m[14:08:49] src/tree/updater_prune.cc:74: tree pruning end, 1 roots, 4 extra nodes, 0 pruned nodes, max_depth=2\u001b[0m\n",
      "\u001b[34m[63]#011train-error:0.027523\u001b[0m\n",
      "\u001b[34m[14:08:49] src/tree/updater_prune.cc:74: tree pruning end, 1 roots, 0 extra nodes, 4 pruned nodes, max_depth=0\u001b[0m\n",
      "\u001b[34m[64]#011train-error:0.027523\u001b[0m\n",
      "\u001b[34m[14:08:49] src/tree/updater_prune.cc:74: tree pruning end, 1 roots, 0 extra nodes, 4 pruned nodes, max_depth=0\u001b[0m\n",
      "\u001b[34m[65]#011train-error:0.027523\u001b[0m\n",
      "\u001b[34m[14:08:49] src/tree/updater_prune.cc:74: tree pruning end, 1 roots, 0 extra nodes, 4 pruned nodes, max_depth=0\u001b[0m\n",
      "\u001b[34m[66]#011train-error:0.027523\u001b[0m\n",
      "\u001b[34m[14:08:49] src/tree/updater_prune.cc:74: tree pruning end, 1 roots, 0 extra nodes, 2 pruned nodes, max_depth=0\u001b[0m\n",
      "\u001b[34m[67]#011train-error:0.027523\u001b[0m\n",
      "\u001b[34m[14:08:49] src/tree/updater_prune.cc:74: tree pruning end, 1 roots, 0 extra nodes, 2 pruned nodes, max_depth=0\u001b[0m\n",
      "\u001b[34m[68]#011train-error:0.027523\u001b[0m\n",
      "\u001b[34m[14:08:49] src/tree/updater_prune.cc:74: tree pruning end, 1 roots, 0 extra nodes, 4 pruned nodes, max_depth=0\u001b[0m\n",
      "\u001b[34m[69]#011train-error:0.027523\u001b[0m\n",
      "\u001b[34m[14:08:49] src/tree/updater_prune.cc:74: tree pruning end, 1 roots, 0 extra nodes, 2 pruned nodes, max_depth=0\u001b[0m\n",
      "\u001b[34m[70]#011train-error:0.027523\u001b[0m\n",
      "\u001b[34m[14:08:49] src/tree/updater_prune.cc:74: tree pruning end, 1 roots, 0 extra nodes, 4 pruned nodes, max_depth=0\u001b[0m\n",
      "\u001b[34m[71]#011train-error:0.027523\u001b[0m\n",
      "\u001b[34m[14:08:49] src/tree/updater_prune.cc:74: tree pruning end, 1 roots, 0 extra nodes, 4 pruned nodes, max_depth=0\u001b[0m\n",
      "\u001b[34m[72]#011train-error:0.027523\u001b[0m\n",
      "\u001b[34m[14:08:49] src/tree/updater_prune.cc:74: tree pruning end, 1 roots, 0 extra nodes, 4 pruned nodes, max_depth=0\u001b[0m\n",
      "\u001b[34m[73]#011train-error:0.027523\u001b[0m\n",
      "\u001b[34m[14:08:49] src/tree/updater_prune.cc:74: tree pruning end, 1 roots, 0 extra nodes, 2 pruned nodes, max_depth=0\u001b[0m\n",
      "\u001b[34m[74]#011train-error:0.027523\u001b[0m\n",
      "\u001b[34m[14:08:49] src/tree/updater_prune.cc:74: tree pruning end, 1 roots, 0 extra nodes, 4 pruned nodes, max_depth=0\u001b[0m\n",
      "\u001b[34m[75]#011train-error:0.027523\u001b[0m\n",
      "\u001b[34m[14:08:49] src/tree/updater_prune.cc:74: tree pruning end, 1 roots, 0 extra nodes, 2 pruned nodes, max_depth=0\u001b[0m\n",
      "\u001b[34m[76]#011train-error:0.027523\u001b[0m\n",
      "\u001b[34m[14:08:49] src/tree/updater_prune.cc:74: tree pruning end, 1 roots, 0 extra nodes, 4 pruned nodes, max_depth=0\u001b[0m\n",
      "\u001b[34m[77]#011train-error:0.027523\u001b[0m\n",
      "\u001b[34m[14:08:49] src/tree/updater_prune.cc:74: tree pruning end, 1 roots, 0 extra nodes, 4 pruned nodes, max_depth=0\u001b[0m\n",
      "\u001b[34m[78]#011train-error:0.027523\u001b[0m\n",
      "\u001b[34m[14:08:49] src/tree/updater_prune.cc:74: tree pruning end, 1 roots, 0 extra nodes, 4 pruned nodes, max_depth=0\u001b[0m\n",
      "\u001b[34m[79]#011train-error:0.027523\u001b[0m\n",
      "\u001b[34m[14:08:49] src/tree/updater_prune.cc:74: tree pruning end, 1 roots, 0 extra nodes, 4 pruned nodes, max_depth=0\u001b[0m\n",
      "\u001b[34m[80]#011train-error:0.027523\u001b[0m\n",
      "\u001b[34m[14:08:49] src/tree/updater_prune.cc:74: tree pruning end, 1 roots, 0 extra nodes, 4 pruned nodes, max_depth=0\u001b[0m\n",
      "\u001b[34m[81]#011train-error:0.027523\u001b[0m\n",
      "\u001b[34m[14:08:49] src/tree/updater_prune.cc:74: tree pruning end, 1 roots, 0 extra nodes, 2 pruned nodes, max_depth=0\u001b[0m\n",
      "\u001b[34m[82]#011train-error:0.027523\u001b[0m\n",
      "\u001b[34m[14:08:49] src/tree/updater_prune.cc:74: tree pruning end, 1 roots, 0 extra nodes, 2 pruned nodes, max_depth=0\u001b[0m\n",
      "\u001b[34m[83]#011train-error:0.027523\u001b[0m\n",
      "\u001b[34m[14:08:49] src/tree/updater_prune.cc:74: tree pruning end, 1 roots, 0 extra nodes, 2 pruned nodes, max_depth=0\u001b[0m\n",
      "\u001b[34m[84]#011train-error:0.027523\u001b[0m\n",
      "\u001b[34m[14:08:49] src/tree/updater_prune.cc:74: tree pruning end, 1 roots, 0 extra nodes, 2 pruned nodes, max_depth=0\u001b[0m\n",
      "\u001b[34m[85]#011train-error:0.027523\u001b[0m\n",
      "\u001b[34m[14:08:49] src/tree/updater_prune.cc:74: tree pruning end, 1 roots, 0 extra nodes, 2 pruned nodes, max_depth=0\u001b[0m\n",
      "\u001b[34m[86]#011train-error:0.027523\u001b[0m\n",
      "\u001b[34m[14:08:49] src/tree/updater_prune.cc:74: tree pruning end, 1 roots, 0 extra nodes, 4 pruned nodes, max_depth=0\u001b[0m\n",
      "\u001b[34m[87]#011train-error:0.027523\u001b[0m\n",
      "\u001b[34m[14:08:49] src/tree/updater_prune.cc:74: tree pruning end, 1 roots, 0 extra nodes, 4 pruned nodes, max_depth=0\u001b[0m\n",
      "\u001b[34m[88]#011train-error:0.027523\u001b[0m\n",
      "\u001b[34m[14:08:49] src/tree/updater_prune.cc:74: tree pruning end, 1 roots, 0 extra nodes, 4 pruned nodes, max_depth=0\u001b[0m\n",
      "\u001b[34m[89]#011train-error:0.027523\u001b[0m\n",
      "\u001b[34m[14:08:49] src/tree/updater_prune.cc:74: tree pruning end, 1 roots, 0 extra nodes, 2 pruned nodes, max_depth=0\u001b[0m\n",
      "\u001b[34m[90]#011train-error:0.027523\u001b[0m\n",
      "\u001b[34m[14:08:49] src/tree/updater_prune.cc:74: tree pruning end, 1 roots, 0 extra nodes, 4 pruned nodes, max_depth=0\u001b[0m\n",
      "\u001b[34m[91]#011train-error:0.027523\u001b[0m\n",
      "\u001b[34m[14:08:49] src/tree/updater_prune.cc:74: tree pruning end, 1 roots, 0 extra nodes, 4 pruned nodes, max_depth=0\u001b[0m\n",
      "\u001b[34m[92]#011train-error:0.027523\u001b[0m\n",
      "\u001b[34m[14:08:49] src/tree/updater_prune.cc:74: tree pruning end, 1 roots, 0 extra nodes, 2 pruned nodes, max_depth=0\u001b[0m\n",
      "\u001b[34m[93]#011train-error:0.027523\u001b[0m\n",
      "\u001b[34m[14:08:49] src/tree/updater_prune.cc:74: tree pruning end, 1 roots, 0 extra nodes, 4 pruned nodes, max_depth=0\u001b[0m\n",
      "\u001b[34m[94]#011train-error:0.027523\u001b[0m\n",
      "\u001b[34m[14:08:49] src/tree/updater_prune.cc:74: tree pruning end, 1 roots, 0 extra nodes, 2 pruned nodes, max_depth=0\u001b[0m\n",
      "\u001b[34m[95]#011train-error:0.027523\u001b[0m\n",
      "\u001b[34m[14:08:49] src/tree/updater_prune.cc:74: tree pruning end, 1 roots, 0 extra nodes, 2 pruned nodes, max_depth=0\u001b[0m\n",
      "\u001b[34m[96]#011train-error:0.027523\u001b[0m\n",
      "\u001b[34m[14:08:49] src/tree/updater_prune.cc:74: tree pruning end, 1 roots, 0 extra nodes, 4 pruned nodes, max_depth=0\u001b[0m\n",
      "\u001b[34m[97]#011train-error:0.027523\u001b[0m\n",
      "\u001b[34m[14:08:49] src/tree/updater_prune.cc:74: tree pruning end, 1 roots, 0 extra nodes, 4 pruned nodes, max_depth=0\u001b[0m\n",
      "\u001b[34m[98]#011train-error:0.027523\u001b[0m\n",
      "\u001b[34m[14:08:49] src/tree/updater_prune.cc:74: tree pruning end, 1 roots, 0 extra nodes, 4 pruned nodes, max_depth=0\u001b[0m\n",
      "\u001b[34m[99]#011train-error:0.027523\u001b[0m\n",
      "\n",
      "2022-04-23 14:09:06 Uploading - Uploading generated training model\n",
      "2022-04-23 14:09:06 Completed - Training job completed\n",
      "Training seconds: 122\n",
      "Billable seconds: 122\n"
     ]
    }
   ],
   "source": [
    "\n",
    "#step 7 \n",
    "xgb.fit({'train': s3_input_train})"
   ]
  },
  {
   "cell_type": "code",
   "execution_count": 72,
   "id": "b687537e",
   "metadata": {},
   "outputs": [
    {
     "name": "stdout",
     "output_type": "stream",
     "text": [
      "-------!"
     ]
    }
   ],
   "source": [
    "#step 8 \n",
    "xgb_predictor = xgb.deploy(initial_instance_count=1,instance_type='ml.m4.xlarge')\n"
   ]
  },
  {
   "cell_type": "code",
   "execution_count": 73,
   "id": "3fef64f3",
   "metadata": {},
   "outputs": [
    {
     "name": "stdout",
     "output_type": "stream",
     "text": [
      "(188,)\n"
     ]
    }
   ],
   "source": [
    "#step 9 \n",
    "from sagemaker.serializers import CSVSerializer\n",
    "\n",
    "test_data_array = test_data.drop(['label'], axis=1).values #load the data into an array\n",
    "xgb_predictor.serializer = CSVSerializer() # set the serializer type\n",
    "predictions = xgb_predictor.predict(test_data_array).decode('utf-8') # predict!\n",
    "predictions_array = np.fromstring(predictions[1:], sep=',') # and turn the prediction into an array\n",
    "print(predictions_array.shape)\n"
   ]
  },
  {
   "cell_type": "code",
   "execution_count": 74,
   "id": "0bbfcce3",
   "metadata": {},
   "outputs": [
    {
     "name": "stdout",
     "output_type": "stream",
     "text": [
      "\n",
      "Overall Classification Rate: 93.1%\n",
      "\n",
      "Predicted      Less than 50%  More than 50%\n",
      "Observed\n",
      "Less than 50%  93% (52)     7% (9)\n",
      "More than 50%   7% (4)     93% (123) \n",
      "\n"
     ]
    }
   ],
   "source": [
    "#step 10 \n",
    "cm = pd.crosstab(index=test_data['label'], columns=np.round(predictions_array), rownames=['Observed'], colnames=['Predicted'])\n",
    "tn = cm.iloc[0,0]; fn = cm.iloc[1,0]; tp = cm.iloc[1,1]; fp = cm.iloc[0,1]; p = (tp+tn)/(tp+tn+fp+fn)*100\n",
    "print(\"\\n{0:<20}{1:<4.1f}%\\n\".format(\"Overall Classification Rate: \", p))\n",
    "print(\"{0:<15}{1:<15}{2:>8}\".format(\"Predicted\", \"Less than 50%\", \"More than 50%\"))\n",
    "print(\"Observed\")\n",
    "print(\"{0:<15}{1:<2.0f}% ({2:<}){3:>6.0f}% ({4:<})\".format(\"Less than 50%\", tn/(tn+fn)*100,tn, fp/(tp+fp)*100, fp))\n",
    "print(\"{0:<16}{1:<1.0f}% ({2:<}){3:>7.0f}% ({4:<}) \\n\".format(\"More than 50%\", fn/(tn+fn)*100,fn, tp/(tp+fp)*100, tp))\n"
   ]
  },
  {
   "cell_type": "code",
   "execution_count": 89,
   "id": "f4cfec07",
   "metadata": {},
   "outputs": [
    {
     "data": {
      "text/html": [
       "<div>\n",
       "<style scoped>\n",
       "    .dataframe tbody tr th:only-of-type {\n",
       "        vertical-align: middle;\n",
       "    }\n",
       "\n",
       "    .dataframe tbody tr th {\n",
       "        vertical-align: top;\n",
       "    }\n",
       "\n",
       "    .dataframe thead th {\n",
       "        text-align: right;\n",
       "    }\n",
       "</style>\n",
       "<table border=\"1\" class=\"dataframe\">\n",
       "  <thead>\n",
       "    <tr style=\"text-align: right;\">\n",
       "      <th></th>\n",
       "      <th>Industry Electricity</th>\n",
       "      <th>Industry Gas</th>\n",
       "      <th>Industry 'Other Fuels'</th>\n",
       "      <th>Large Industrial Installations</th>\n",
       "      <th>Agriculture</th>\n",
       "      <th>Industry Total</th>\n",
       "      <th>2019 year</th>\n",
       "      <th>label</th>\n",
       "    </tr>\n",
       "  </thead>\n",
       "  <tbody>\n",
       "    <tr>\n",
       "      <th>429</th>\n",
       "      <td>21.471378</td>\n",
       "      <td>28.171075</td>\n",
       "      <td>48.760413</td>\n",
       "      <td>13.089610</td>\n",
       "      <td>14.229823</td>\n",
       "      <td>125.722299</td>\n",
       "      <td>7.49466</td>\n",
       "      <td>1</td>\n",
       "    </tr>\n",
       "    <tr>\n",
       "      <th>237</th>\n",
       "      <td>43.524392</td>\n",
       "      <td>18.127447</td>\n",
       "      <td>39.148399</td>\n",
       "      <td>0.016560</td>\n",
       "      <td>0.596807</td>\n",
       "      <td>101.413605</td>\n",
       "      <td>152.75500</td>\n",
       "      <td>0</td>\n",
       "    </tr>\n",
       "    <tr>\n",
       "      <th>384</th>\n",
       "      <td>30.576951</td>\n",
       "      <td>18.814030</td>\n",
       "      <td>58.443575</td>\n",
       "      <td>107.993055</td>\n",
       "      <td>14.428038</td>\n",
       "      <td>230.255650</td>\n",
       "      <td>3196.71800</td>\n",
       "      <td>0</td>\n",
       "    </tr>\n",
       "    <tr>\n",
       "      <th>366</th>\n",
       "      <td>50.480688</td>\n",
       "      <td>100.082530</td>\n",
       "      <td>13.109398</td>\n",
       "      <td>1.134588</td>\n",
       "      <td>0.071980</td>\n",
       "      <td>164.879184</td>\n",
       "      <td>51.29100</td>\n",
       "      <td>1</td>\n",
       "    </tr>\n",
       "    <tr>\n",
       "      <th>378</th>\n",
       "      <td>12.167436</td>\n",
       "      <td>4.994726</td>\n",
       "      <td>18.269672</td>\n",
       "      <td>1.660167</td>\n",
       "      <td>9.457461</td>\n",
       "      <td>46.549461</td>\n",
       "      <td>200.39100</td>\n",
       "      <td>0</td>\n",
       "    </tr>\n",
       "    <tr>\n",
       "      <th>...</th>\n",
       "      <td>...</td>\n",
       "      <td>...</td>\n",
       "      <td>...</td>\n",
       "      <td>...</td>\n",
       "      <td>...</td>\n",
       "      <td>...</td>\n",
       "      <td>...</td>\n",
       "      <td>...</td>\n",
       "    </tr>\n",
       "    <tr>\n",
       "      <th>70</th>\n",
       "      <td>47.666017</td>\n",
       "      <td>54.049591</td>\n",
       "      <td>37.599949</td>\n",
       "      <td>49.002407</td>\n",
       "      <td>1.204505</td>\n",
       "      <td>189.522469</td>\n",
       "      <td>17.74600</td>\n",
       "      <td>1</td>\n",
       "    </tr>\n",
       "    <tr>\n",
       "      <th>132</th>\n",
       "      <td>105.011511</td>\n",
       "      <td>115.378414</td>\n",
       "      <td>145.563009</td>\n",
       "      <td>524.963206</td>\n",
       "      <td>70.290386</td>\n",
       "      <td>961.206526</td>\n",
       "      <td>58.42880</td>\n",
       "      <td>1</td>\n",
       "    </tr>\n",
       "    <tr>\n",
       "      <th>289</th>\n",
       "      <td>27.238769</td>\n",
       "      <td>9.761711</td>\n",
       "      <td>31.429824</td>\n",
       "      <td>0.073522</td>\n",
       "      <td>6.951697</td>\n",
       "      <td>75.455523</td>\n",
       "      <td>11.13000</td>\n",
       "      <td>1</td>\n",
       "    </tr>\n",
       "    <tr>\n",
       "      <th>109</th>\n",
       "      <td>67.413388</td>\n",
       "      <td>207.137841</td>\n",
       "      <td>50.903814</td>\n",
       "      <td>178.246660</td>\n",
       "      <td>1.388202</td>\n",
       "      <td>505.089905</td>\n",
       "      <td>74.00000</td>\n",
       "      <td>1</td>\n",
       "    </tr>\n",
       "    <tr>\n",
       "      <th>480</th>\n",
       "      <td>119.621481</td>\n",
       "      <td>112.958447</td>\n",
       "      <td>93.009119</td>\n",
       "      <td>574.492574</td>\n",
       "      <td>16.256482</td>\n",
       "      <td>916.338103</td>\n",
       "      <td>55.80000</td>\n",
       "      <td>1</td>\n",
       "    </tr>\n",
       "  </tbody>\n",
       "</table>\n",
       "<p>188 rows × 8 columns</p>\n",
       "</div>"
      ],
      "text/plain": [
       "     Industry Electricity  Industry Gas   Industry 'Other Fuels'  \\\n",
       "429             21.471378      28.171075               48.760413   \n",
       "237             43.524392      18.127447               39.148399   \n",
       "384             30.576951      18.814030               58.443575   \n",
       "366             50.480688     100.082530               13.109398   \n",
       "378             12.167436       4.994726               18.269672   \n",
       "..                    ...            ...                     ...   \n",
       "70              47.666017      54.049591               37.599949   \n",
       "132            105.011511     115.378414              145.563009   \n",
       "289             27.238769       9.761711               31.429824   \n",
       "109             67.413388     207.137841               50.903814   \n",
       "480            119.621481     112.958447               93.009119   \n",
       "\n",
       "     Large Industrial Installations  Agriculture  Industry Total   2019 year  \\\n",
       "429                       13.089610    14.229823      125.722299     7.49466   \n",
       "237                        0.016560     0.596807      101.413605   152.75500   \n",
       "384                      107.993055    14.428038      230.255650  3196.71800   \n",
       "366                        1.134588     0.071980      164.879184    51.29100   \n",
       "378                        1.660167     9.457461       46.549461   200.39100   \n",
       "..                              ...          ...             ...         ...   \n",
       "70                        49.002407     1.204505      189.522469    17.74600   \n",
       "132                      524.963206    70.290386      961.206526    58.42880   \n",
       "289                        0.073522     6.951697       75.455523    11.13000   \n",
       "109                      178.246660     1.388202      505.089905    74.00000   \n",
       "480                      574.492574    16.256482      916.338103    55.80000   \n",
       "\n",
       "     label  \n",
       "429      1  \n",
       "237      0  \n",
       "384      0  \n",
       "366      1  \n",
       "378      0  \n",
       "..     ...  \n",
       "70       1  \n",
       "132      1  \n",
       "289      1  \n",
       "109      1  \n",
       "480      1  \n",
       "\n",
       "[188 rows x 8 columns]"
      ]
     },
     "execution_count": 89,
     "metadata": {},
     "output_type": "execute_result"
    }
   ],
   "source": [
    "test_data"
   ]
  },
  {
   "cell_type": "code",
   "execution_count": 76,
   "id": "33503d19",
   "metadata": {},
   "outputs": [
    {
     "data": {
      "text/plain": [
       "'{\"Industry Electricity\":21.4713780854,\"Industry Gas \":28.1710746292,\"Industry \\'Other Fuels\\'\":48.760412829,\"Large Industrial Installations\":13.0896102274,\"Agriculture\":14.2298228162,\"Industry Total\":125.7222985872,\"2019 year\":7.49466,\"label\":1.0}'"
      ]
     },
     "execution_count": 76,
     "metadata": {},
     "output_type": "execute_result"
    }
   ],
   "source": [
    "js = test_data.iloc[0].to_json(orient = 'columns')\n",
    "js"
   ]
  },
  {
   "cell_type": "code",
   "execution_count": 77,
   "id": "d8b1a320",
   "metadata": {},
   "outputs": [
    {
     "name": "stderr",
     "output_type": "stream",
     "text": [
      "The endpoint attribute has been renamed in sagemaker>=2.\n",
      "See: https://sagemaker.readthedocs.io/en/stable/v2.html for details.\n"
     ]
    },
    {
     "data": {
      "text/plain": [
       "'xgboost-2022-04-23-14-09-27-392'"
      ]
     },
     "execution_count": 77,
     "metadata": {},
     "output_type": "execute_result"
    }
   ],
   "source": [
    "xgb_predictor.endpoint"
   ]
  },
  {
   "cell_type": "code",
   "execution_count": 97,
   "id": "d94f47a9",
   "metadata": {},
   "outputs": [
    {
     "data": {
      "text/plain": [
       "b'0.9814813137054443'"
      ]
     },
     "execution_count": 97,
     "metadata": {},
     "output_type": "execute_result"
    }
   ],
   "source": [
    "xgb_predictor.predict([21,28,48,13,14,125,7])"
   ]
  },
  {
   "cell_type": "code",
   "execution_count": 93,
   "id": "490efb6b",
   "metadata": {},
   "outputs": [],
   "source": [
    "import io\n",
    "def np2csv(arr):\n",
    "    csv = io.BytesIO()\n",
    "\n",
    "    np.savetxt(csv, arr, delimiter=\",\", fmt=\"%g\")\n",
    "    \n",
    "\n",
    "    return csv.getvalue().decode().rstrip()"
   ]
  },
  {
   "cell_type": "code",
   "execution_count": 111,
   "id": "39626b89",
   "metadata": {},
   "outputs": [],
   "source": [
    "runtime = boto3.client(\"runtime.sagemaker\")\n",
    "\n",
    "# get the payload\n",
    "\n",
    "payload = np2csv([[21,28,48,13,14,125,7]])\n",
    "# invoke the endpoint to get the response\n",
    "\n",
    "response = runtime.invoke_endpoint(\n",
    "\n",
    "EndpointName='xgboost-2022-04-23-14-09-27-392', Body=payload, ContentType=\"text/csv\")"
   ]
  },
  {
   "cell_type": "code",
   "execution_count": 103,
   "id": "81e693b2",
   "metadata": {},
   "outputs": [],
   "source": [
    "result = json.loads(response[\"Body\"].read().decode())"
   ]
  },
  {
   "cell_type": "code",
   "execution_count": 104,
   "id": "64110660",
   "metadata": {},
   "outputs": [
    {
     "data": {
      "text/plain": [
       "0.9814813137054443"
      ]
     },
     "execution_count": 104,
     "metadata": {},
     "output_type": "execute_result"
    }
   ],
   "source": [
    "result"
   ]
  },
  {
   "cell_type": "code",
   "execution_count": 105,
   "id": "13042822",
   "metadata": {},
   "outputs": [],
   "source": [
    "test= { \"data\": [[21,28,48,13,14,125,7]]}"
   ]
  },
  {
   "cell_type": "code",
   "execution_count": 110,
   "id": "642d070b",
   "metadata": {},
   "outputs": [
    {
     "name": "stdout",
     "output_type": "stream",
     "text": [
      "[[21, 28, 48, 13, 14, 125, 7]]\n"
     ]
    },
    {
     "data": {
      "text/plain": [
       "[[21, 28, 48, 13, 14, 125, 7]]"
      ]
     },
     "execution_count": 110,
     "metadata": {},
     "output_type": "execute_result"
    }
   ],
   "source": [
    "data = json.loads(json.dumps(test))\n",
    "payload = data[\"data\"]\n",
    "print(payload)\n",
    "payload"
   ]
  },
  {
   "cell_type": "code",
   "execution_count": 112,
   "id": "2f6d8703",
   "metadata": {},
   "outputs": [
    {
     "name": "stdout",
     "output_type": "stream",
     "text": [
      "21,28,48,13,14,125,7\n"
     ]
    }
   ],
   "source": [
    "print(payload)"
   ]
  },
  {
   "cell_type": "code",
   "execution_count": null,
   "id": "0bd60313",
   "metadata": {},
   "outputs": [],
   "source": []
  }
 ],
 "metadata": {
  "kernelspec": {
   "display_name": "conda_python3",
   "language": "python",
   "name": "conda_python3"
  },
  "language_info": {
   "codemirror_mode": {
    "name": "ipython",
    "version": 3
   },
   "file_extension": ".py",
   "mimetype": "text/x-python",
   "name": "python",
   "nbconvert_exporter": "python",
   "pygments_lexer": "ipython3",
   "version": "3.6.13"
  }
 },
 "nbformat": 4,
 "nbformat_minor": 5
}
