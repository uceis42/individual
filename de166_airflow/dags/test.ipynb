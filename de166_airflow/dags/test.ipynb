{
 "cells": [
  {
   "cell_type": "code",
   "execution_count": 1,
   "id": "0bf075e0",
   "metadata": {},
   "outputs": [],
   "source": [
    "\n",
    "import pandas as pd\n",
    "import numpy as np\n",
    "import requests\n",
    "from bs4 import BeautifulSoup\n",
    "\n"
   ]
  },
  {
   "cell_type": "code",
   "execution_count": 33,
   "id": "af905eb9",
   "metadata": {},
   "outputs": [],
   "source": [
    "\n",
    "def web_scraping_function():\n",
    "    url ='https://find-and-update.company-information.service.gov.uk/alphabetical-search/get-results?companyName=a'\n",
    "\n",
    "    # Import packages\n",
    "\n",
    "    r = requests.get(url)\n",
    "\n",
    "    # Extracts the response as html: html_doc\n",
    "    html_doc = r.text\n",
    "\n",
    "    # create a BeautifulSoup object from the HTML: soup\n",
    "    soup = BeautifulSoup(html_doc)\n",
    "\n",
    "\n",
    "    # Package the request, send the request and catch the response: r\n",
    "    # Extracts the response as html: html_doc\n",
    "\n",
    "\n",
    "    # create a BeautifulSoup object from the HTML: soup\n",
    "    h2_tags = soup.find_all(\"td\", {\"class\": \"govuk-table__cell\"})\n",
    "\n",
    "    scraped_data = []\n",
    "    list_data = []\n",
    "\n",
    "\n",
    "    # Iterate over all the h2 tags found to extract the link and title of the blog posts\n",
    "    for h2 in h2_tags:\n",
    "        try:\n",
    "            list_data.append(h2.text)\n",
    "            #scraped_data.append({\"content\":h2.text, \n",
    "             #                   \"link_post\": h2.a.get(\"href\")})\n",
    "        except AttributeError as e:\n",
    "            # Adding the handling of errors\n",
    "            print('Tag was not found')\n",
    "            continue\n",
    "    print(list_data)\n",
    "\n",
    "\n",
    "    return scraped_data"
   ]
  },
  {
   "cell_type": "code",
   "execution_count": 34,
   "id": "06a1c668",
   "metadata": {},
   "outputs": [
    {
     "ename": "NameError",
     "evalue": "name 'h2_tags' is not defined",
     "output_type": "error",
     "traceback": [
      "\u001b[1;31m---------------------------------------------------------------------------\u001b[0m",
      "\u001b[1;31mNameError\u001b[0m                                 Traceback (most recent call last)",
      "\u001b[1;32mC:\\Users\\SHIHAO~1\\AppData\\Local\\Temp/ipykernel_40172/3750837982.py\u001b[0m in \u001b[0;36m<module>\u001b[1;34m\u001b[0m\n\u001b[1;32m----> 1\u001b[1;33m \u001b[0mh2_tags\u001b[0m\u001b[1;33m\u001b[0m\u001b[1;33m\u001b[0m\u001b[0m\n\u001b[0m",
      "\u001b[1;31mNameError\u001b[0m: name 'h2_tags' is not defined"
     ]
    }
   ],
   "source": [
    "h2_tags"
   ]
  },
  {
   "cell_type": "code",
   "execution_count": 35,
   "id": "4526454d",
   "metadata": {},
   "outputs": [
    {
     "name": "stdout",
     "output_type": "stream",
     "text": [
      "['/ LTD', '11479550', 'Dissolved', '{ LTD', '11743635', 'Active', '& COLLEY LTD', '12016910', 'Dissolved', '& SUYA RESTAURANT LIMITED', '12030591', 'Active', ':::: LTD', '12153737', 'Active', '& AYAH LTD', '12191800', 'Dissolved', '/ LTD', '12289315', 'Active', '// LTD', '12382755', 'Active', '&MORTAR CONSULTING LTD', '12615666', 'Dissolved', '@ LTD', '12821321', 'Active', '... LTD', '12821336', 'Active', '&TADESSE LTD', '12832332', 'Dissolved', '> LIMITED', '12852967', 'Active', '-. LTD', '12870304', 'Active', '.- LTD', '12870308', 'Active', '? LTD', '13124568', 'Dissolved', '& CLEAN LTD', '13333846', 'Active', '&BROAD LIMITED', '13430540', 'Active', '&PESTANA LIMITED', '13453866', 'Active', '? LTD', '14053598', 'Active', 'A & P TOOLS AND PRODUCTS LIMITED', '00415532', 'Liquidation', 'A. & W. GODDARD LIMITED', '00550068', 'Active', 'A. & R. JOHN LIMITED', '00582855', 'Dissolved', 'A.&M.LEWIS INVESTMENTS LIMITED', '00672564', 'Dissolved', 'A.& H.FORMES LIMITED', '01059755', 'Active', 'A.& J.SCOTT LIMITED', '01087941', 'Active', 'A & S AERIALS LIMITED', '01151661', 'Dissolved', 'A. & C. DUNKLEY (BOSCOMBE) LIMITED', '01184368', 'Liquidation', 'A. & J. FABTECH LIMITED', '01202760', 'Liquidation', 'A. & G. BARBER LIMITED', '01366200', 'Dissolved', 'A. & N. PENNINGTON (MANCHESTER) LIMITED', '01405058', 'Dissolved', 'A & P PHILP (TIMBER FRAME) LIMITED', '01621664', 'Active', 'A & S DISPLAY LIMITED', '01682911', 'Dissolved', 'A & H IMAGES LIMITED', '01831837', 'Liquidation', 'A & R PROMOTIONS LIMITED', '02038521', 'Active', 'A. & K. BUILDING AND CIVIL ENGINEERING LIMITED', '02052874', 'Dissolved', 'A & L HARDWARE LTD', '02079551', 'Dissolved', 'A & GP (GROUP) LIMITED', '02131566', 'Liquidation', 'A. & A. KING LIMITED', '02397511', 'Active', 'A & M  MINERALS AND METALS LIMITED', '02427294', 'Liquidation']\n",
      "[]\n"
     ]
    }
   ],
   "source": [
    "print(web_scraping_function())"
   ]
  },
  {
   "cell_type": "code",
   "execution_count": null,
   "id": "e2250f5f",
   "metadata": {},
   "outputs": [],
   "source": []
  }
 ],
 "metadata": {
  "kernelspec": {
   "display_name": "Python 3 (ipykernel)",
   "language": "python",
   "name": "python3"
  },
  "language_info": {
   "codemirror_mode": {
    "name": "ipython",
    "version": 3
   },
   "file_extension": ".py",
   "mimetype": "text/x-python",
   "name": "python",
   "nbconvert_exporter": "python",
   "pygments_lexer": "ipython3",
   "version": "3.8.12"
  }
 },
 "nbformat": 4,
 "nbformat_minor": 5
}
