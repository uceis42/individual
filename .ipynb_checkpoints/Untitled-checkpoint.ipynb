{
 "cells": [
  {
   "cell_type": "code",
   "execution_count": 75,
   "id": "f7ba1909",
   "metadata": {},
   "outputs": [],
   "source": [
    "import requests\n",
    "from bs4 import BeautifulSoup\n",
    "import re\n",
    "import pandas as pd\n",
    "import numpy as np\n",
    "import urllib.request\n",
    "import sys"
   ]
  },
  {
   "cell_type": "code",
   "execution_count": null,
   "id": "c34e9d9e",
   "metadata": {},
   "outputs": [],
   "source": [
    "# one page has 40 records\n",
    "\n",
    "#start with https://find-and-update.company-information.service.gov.uk/alphabetical-search/get-results?companyName=%5C&searchAfter=%3A02559441\n",
    "#end with https://find-and-update.company-information.service.gov.uk/alphabetical-search/get-results?companyName=%5C&searchAfter=ZZZGUESTHOUSES%3A07826360"
   ]
  },
  {
   "cell_type": "code",
   "execution_count": null,
   "id": "ab5cd57d",
   "metadata": {},
   "outputs": [],
   "source": [
    "def getCompanylist(url):\n",
    "    try:\n",
    "        html = requests.get(url, headers=headers,timeout=10)\n",
    "    except:    \n",
    "        print('fail1')\n",
    "        try:\n",
    "            html = requests.get(url, headers=headers,timeout=10)\n",
    "        except:\n",
    "            print('fail2')\n",
    "            try:\n",
    "                html = requests.get(url, headers=headers,timeout=10)\n",
    "            except:\n",
    "                print('fail3')\n",
    "    soup = BeautifulSoup(html.text, 'lxml')\n",
    "    \n",
    "    companyName = []\n",
    "    companyNumber = []\n",
    "    status = []\n",
    "    link = []\n",
    "    \n",
    "    \n",
    "    tableContent = soup.find_all(\"td\", {\"class\": \"govuk-table__cell\"})\n",
    "    \n",
    "\n",
    "    nextpage=soup.find_all('div', {'class': \"pagination\"})\n",
    "    nexpageUrl = nextpage[0].find('a',{\"id\":\"nextLink\"})\n",
    "    urltext= \"https://find-and-update.company-information.service.gov.uk/alphabetical-search/\"+str( nexpageUrl.get('href'))\n",
    "    print(urltext)\n",
    "  \n",
    "\n",
    "    for i in range(int(len(tableContent)/3)):\n",
    "        indexNumber = i*3\n",
    "        companyName.append(tableContent[indexNumber].find(text=True)) \n",
    "        number = tableContent[indexNumber+1].find(text=True)\n",
    "        companyNumber.append(number)\n",
    "        status.append(tableContent[indexNumber+2].find(text=True))\n",
    "        link.append(\"https://find-and-update.company-information.service.gov.uk/company/\"+str(number)) \n",
    "\n",
    "    sub_df = pd.DataFrame({'companyName': companyName, 'companyNumber': companyNumber,'status': status,'link': link })\n",
    "    \n",
    "    return sub_df,urltext\n",
    "        "
   ]
  },
  {
   "cell_type": "code",
   "execution_count": 164,
   "id": "96850d66",
   "metadata": {},
   "outputs": [
    {
     "name": "stdout",
     "output_type": "stream",
     "text": [
      "https://find-and-update.company-information.service.gov.uk/alphabetical-search/get-results?companyName=%5C&searchAfter=A%3A00550068\n"
     ]
    },
    {
     "name": "stderr",
     "output_type": "stream",
     "text": [
      "C:\\Users\\SHIHAO~1\\AppData\\Local\\Temp/ipykernel_3516/340508536.py:10: FutureWarning: The frame.append method is deprecated and will be removed from pandas in a future version. Use pandas.concat instead.\n",
      "  df_namelist = df_namelist.append(df_namelist_new)\n"
     ]
    },
    {
     "name": "stdout",
     "output_type": "stream",
     "text": [
      "https://find-and-update.company-information.service.gov.uk/alphabetical-search/get-results?companyName=%5C&searchAfter=A%3A03967928\n",
      "https://find-and-update.company-information.service.gov.uk/alphabetical-search/get-results?companyName=%5C&searchAfter=A%3A05138297\n",
      "https://find-and-update.company-information.service.gov.uk/alphabetical-search/get-results?companyName=%5C&searchAfter=A%3A06628217\n"
     ]
    },
    {
     "name": "stderr",
     "output_type": "stream",
     "text": [
      "C:\\Users\\SHIHAO~1\\AppData\\Local\\Temp/ipykernel_3516/340508536.py:10: FutureWarning: The frame.append method is deprecated and will be removed from pandas in a future version. Use pandas.concat instead.\n",
      "  df_namelist = df_namelist.append(df_namelist_new)\n"
     ]
    },
    {
     "name": "stdout",
     "output_type": "stream",
     "text": [
      "https://find-and-update.company-information.service.gov.uk/alphabetical-search/get-results?companyName=%5C&searchAfter=A%3A07793740\n"
     ]
    },
    {
     "name": "stderr",
     "output_type": "stream",
     "text": [
      "C:\\Users\\SHIHAO~1\\AppData\\Local\\Temp/ipykernel_3516/340508536.py:10: FutureWarning: The frame.append method is deprecated and will be removed from pandas in a future version. Use pandas.concat instead.\n",
      "  df_namelist = df_namelist.append(df_namelist_new)\n"
     ]
    },
    {
     "name": "stdout",
     "output_type": "stream",
     "text": [
      "https://find-and-update.company-information.service.gov.uk/alphabetical-search/get-results?companyName=%5C&searchAfter=A%3A08432967\n"
     ]
    },
    {
     "name": "stderr",
     "output_type": "stream",
     "text": [
      "C:\\Users\\SHIHAO~1\\AppData\\Local\\Temp/ipykernel_3516/340508536.py:10: FutureWarning: The frame.append method is deprecated and will be removed from pandas in a future version. Use pandas.concat instead.\n",
      "  df_namelist = df_namelist.append(df_namelist_new)\n"
     ]
    },
    {
     "name": "stdout",
     "output_type": "stream",
     "text": [
      "https://find-and-update.company-information.service.gov.uk/alphabetical-search/get-results?companyName=%5C&searchAfter=A%3A09134553\n"
     ]
    },
    {
     "name": "stderr",
     "output_type": "stream",
     "text": [
      "C:\\Users\\SHIHAO~1\\AppData\\Local\\Temp/ipykernel_3516/340508536.py:10: FutureWarning: The frame.append method is deprecated and will be removed from pandas in a future version. Use pandas.concat instead.\n",
      "  df_namelist = df_namelist.append(df_namelist_new)\n"
     ]
    },
    {
     "name": "stdout",
     "output_type": "stream",
     "text": [
      "https://find-and-update.company-information.service.gov.uk/alphabetical-search/get-results?companyName=%5C&searchAfter=A%3A09767510\n"
     ]
    },
    {
     "name": "stderr",
     "output_type": "stream",
     "text": [
      "C:\\Users\\SHIHAO~1\\AppData\\Local\\Temp/ipykernel_3516/340508536.py:10: FutureWarning: The frame.append method is deprecated and will be removed from pandas in a future version. Use pandas.concat instead.\n",
      "  df_namelist = df_namelist.append(df_namelist_new)\n"
     ]
    },
    {
     "name": "stdout",
     "output_type": "stream",
     "text": [
      "https://find-and-update.company-information.service.gov.uk/alphabetical-search/get-results?companyName=%5C&searchAfter=A%3A10393488\n"
     ]
    },
    {
     "name": "stderr",
     "output_type": "stream",
     "text": [
      "C:\\Users\\SHIHAO~1\\AppData\\Local\\Temp/ipykernel_3516/340508536.py:10: FutureWarning: The frame.append method is deprecated and will be removed from pandas in a future version. Use pandas.concat instead.\n",
      "  df_namelist = df_namelist.append(df_namelist_new)\n"
     ]
    },
    {
     "name": "stdout",
     "output_type": "stream",
     "text": [
      "https://find-and-update.company-information.service.gov.uk/alphabetical-search/get-results?companyName=%5C&searchAfter=A%3A10860402\n"
     ]
    },
    {
     "name": "stderr",
     "output_type": "stream",
     "text": [
      "C:\\Users\\SHIHAO~1\\AppData\\Local\\Temp/ipykernel_3516/340508536.py:10: FutureWarning: The frame.append method is deprecated and will be removed from pandas in a future version. Use pandas.concat instead.\n",
      "  df_namelist = df_namelist.append(df_namelist_new)\n"
     ]
    },
    {
     "name": "stdout",
     "output_type": "stream",
     "text": [
      "https://find-and-update.company-information.service.gov.uk/alphabetical-search/get-results?companyName=%5C&searchAfter=A%3A11175517\n"
     ]
    },
    {
     "name": "stderr",
     "output_type": "stream",
     "text": [
      "C:\\Users\\SHIHAO~1\\AppData\\Local\\Temp/ipykernel_3516/340508536.py:10: FutureWarning: The frame.append method is deprecated and will be removed from pandas in a future version. Use pandas.concat instead.\n",
      "  df_namelist = df_namelist.append(df_namelist_new)\n"
     ]
    },
    {
     "name": "stdout",
     "output_type": "stream",
     "text": [
      "https://find-and-update.company-information.service.gov.uk/alphabetical-search/get-results?companyName=%5C&searchAfter=A%3A11384749\n"
     ]
    },
    {
     "name": "stderr",
     "output_type": "stream",
     "text": [
      "C:\\Users\\SHIHAO~1\\AppData\\Local\\Temp/ipykernel_3516/340508536.py:10: FutureWarning: The frame.append method is deprecated and will be removed from pandas in a future version. Use pandas.concat instead.\n",
      "  df_namelist = df_namelist.append(df_namelist_new)\n"
     ]
    },
    {
     "name": "stdout",
     "output_type": "stream",
     "text": [
      "https://find-and-update.company-information.service.gov.uk/alphabetical-search/get-results?companyName=%5C&searchAfter=A%3A11618536\n"
     ]
    },
    {
     "name": "stderr",
     "output_type": "stream",
     "text": [
      "C:\\Users\\SHIHAO~1\\AppData\\Local\\Temp/ipykernel_3516/340508536.py:10: FutureWarning: The frame.append method is deprecated and will be removed from pandas in a future version. Use pandas.concat instead.\n",
      "  df_namelist = df_namelist.append(df_namelist_new)\n"
     ]
    },
    {
     "name": "stdout",
     "output_type": "stream",
     "text": [
      "https://find-and-update.company-information.service.gov.uk/alphabetical-search/get-results?companyName=%5C&searchAfter=A%3A11733551\n"
     ]
    },
    {
     "name": "stderr",
     "output_type": "stream",
     "text": [
      "C:\\Users\\SHIHAO~1\\AppData\\Local\\Temp/ipykernel_3516/340508536.py:10: FutureWarning: The frame.append method is deprecated and will be removed from pandas in a future version. Use pandas.concat instead.\n",
      "  df_namelist = df_namelist.append(df_namelist_new)\n"
     ]
    },
    {
     "name": "stdout",
     "output_type": "stream",
     "text": [
      "https://find-and-update.company-information.service.gov.uk/alphabetical-search/get-results?companyName=%5C&searchAfter=A%3A11832425\n"
     ]
    },
    {
     "name": "stderr",
     "output_type": "stream",
     "text": [
      "C:\\Users\\SHIHAO~1\\AppData\\Local\\Temp/ipykernel_3516/340508536.py:10: FutureWarning: The frame.append method is deprecated and will be removed from pandas in a future version. Use pandas.concat instead.\n",
      "  df_namelist = df_namelist.append(df_namelist_new)\n"
     ]
    },
    {
     "name": "stdout",
     "output_type": "stream",
     "text": [
      "https://find-and-update.company-information.service.gov.uk/alphabetical-search/get-results?companyName=%5C&searchAfter=A%3A11957347\n"
     ]
    },
    {
     "name": "stderr",
     "output_type": "stream",
     "text": [
      "C:\\Users\\SHIHAO~1\\AppData\\Local\\Temp/ipykernel_3516/340508536.py:10: FutureWarning: The frame.append method is deprecated and will be removed from pandas in a future version. Use pandas.concat instead.\n",
      "  df_namelist = df_namelist.append(df_namelist_new)\n"
     ]
    },
    {
     "name": "stdout",
     "output_type": "stream",
     "text": [
      "https://find-and-update.company-information.service.gov.uk/alphabetical-search/get-results?companyName=%5C&searchAfter=A%3A12065406\n"
     ]
    },
    {
     "name": "stderr",
     "output_type": "stream",
     "text": [
      "C:\\Users\\SHIHAO~1\\AppData\\Local\\Temp/ipykernel_3516/340508536.py:10: FutureWarning: The frame.append method is deprecated and will be removed from pandas in a future version. Use pandas.concat instead.\n",
      "  df_namelist = df_namelist.append(df_namelist_new)\n"
     ]
    },
    {
     "name": "stdout",
     "output_type": "stream",
     "text": [
      "https://find-and-update.company-information.service.gov.uk/alphabetical-search/get-results?companyName=%5C&searchAfter=A%3A12184083\n"
     ]
    },
    {
     "name": "stderr",
     "output_type": "stream",
     "text": [
      "C:\\Users\\SHIHAO~1\\AppData\\Local\\Temp/ipykernel_3516/340508536.py:10: FutureWarning: The frame.append method is deprecated and will be removed from pandas in a future version. Use pandas.concat instead.\n",
      "  df_namelist = df_namelist.append(df_namelist_new)\n"
     ]
    },
    {
     "name": "stdout",
     "output_type": "stream",
     "text": [
      "https://find-and-update.company-information.service.gov.uk/alphabetical-search/get-results?companyName=%5C&searchAfter=A%3A12297578\n"
     ]
    },
    {
     "name": "stderr",
     "output_type": "stream",
     "text": [
      "C:\\Users\\SHIHAO~1\\AppData\\Local\\Temp/ipykernel_3516/340508536.py:10: FutureWarning: The frame.append method is deprecated and will be removed from pandas in a future version. Use pandas.concat instead.\n",
      "  df_namelist = df_namelist.append(df_namelist_new)\n"
     ]
    },
    {
     "name": "stdout",
     "output_type": "stream",
     "text": [
      "https://find-and-update.company-information.service.gov.uk/alphabetical-search/get-results?companyName=%5C&searchAfter=A%3A12593833\n"
     ]
    },
    {
     "name": "stderr",
     "output_type": "stream",
     "text": [
      "C:\\Users\\SHIHAO~1\\AppData\\Local\\Temp/ipykernel_3516/340508536.py:10: FutureWarning: The frame.append method is deprecated and will be removed from pandas in a future version. Use pandas.concat instead.\n",
      "  df_namelist = df_namelist.append(df_namelist_new)\n"
     ]
    }
   ],
   "source": [
    "headers = {\"User-Agent\": \"Mozilla/5.0 (X11; Linux x86_64) AppleWebKit/537.36 (KHTML, like Gecko) Chrome/70.0.3538.102 Safari/537.36\"}\n",
    "url = 'https://find-and-update.company-information.service.gov.uk/alphabetical-search/get-results?companyName=%5C&searchAfter=%3A02559441'\n",
    "\n",
    "df_namelist = pd.DataFrame()\n",
    "df_namelist_old= pd.DataFrame()\n",
    "for i in range(20):\n",
    "    df_namelist_new,url = getCompanylist(url)\n",
    "    if ~df_namelist_old.equals(df_namelist_new):  \n",
    "        df_namelist_old = df_namelist_new.copy()\n",
    "        df_namelist = df_namelist.append(df_namelist_new) \n",
    "     \n",
    "    else:\n",
    "        break\n"
   ]
  },
  {
   "cell_type": "code",
   "execution_count": 163,
   "id": "bf09088e",
   "metadata": {},
   "outputs": [],
   "source": []
  },
  {
   "cell_type": "code",
   "execution_count": 165,
   "id": "24fafd2f",
   "metadata": {},
   "outputs": [],
   "source": [
    "df_namelist.to_csv('list.csv')"
   ]
  },
  {
   "cell_type": "code",
   "execution_count": null,
   "id": "0372ca22",
   "metadata": {},
   "outputs": [],
   "source": []
  }
 ],
 "metadata": {
  "kernelspec": {
   "display_name": "Python 3 (ipykernel)",
   "language": "python",
   "name": "python3"
  },
  "language_info": {
   "codemirror_mode": {
    "name": "ipython",
    "version": 3
   },
   "file_extension": ".py",
   "mimetype": "text/x-python",
   "name": "python",
   "nbconvert_exporter": "python",
   "pygments_lexer": "ipython3",
   "version": "3.8.12"
  }
 },
 "nbformat": 4,
 "nbformat_minor": 5
}
